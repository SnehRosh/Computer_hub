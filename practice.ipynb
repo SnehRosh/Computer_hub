{
 "cells": [
  {
   "cell_type": "code",
   "execution_count": 3,
   "metadata": {},
   "outputs": [],
   "source": [
    "import os\n",
    "from dotenv import load_dotenv\n",
    "\n",
    "import textwrap\n",
    "import numpy as np\n",
    "import pandas as pd\n",
    "\n",
    "import google.generativeai as genai\n",
    "\n",
    "\n",
    "from IPython.display import Markdown\n"
   ]
  },
  {
   "cell_type": "markdown",
   "metadata": {},
   "source": [
    "# Embedding Example"
   ]
  },
  {
   "cell_type": "code",
   "execution_count": 6,
   "metadata": {},
   "outputs": [
    {
     "name": "stdout",
     "output_type": "stream",
     "text": [
      "{'embedding': [[0.042077992, -0.019561278, -0.023592692, -0.040348373, 0.07969901, 0.043683343, 0.00528953, 0.030831655, 0.031621926, 0.08120193, -0.005643414, 0.01766146, -0.058881667, -0.001357631, 0.039107047, -0.032413244, 0.028788012, 0.011042602, -0.040666655, 0.031072233, 0.066110104, -0.008326009, -0.021814477, -0.05020413, -0.028840445, -0.03405121, 0.005174113, -0.009935476, 0.022726668, 0.009107596, -0.049797516, 0.012992686, -0.039540857, 0.02242963, -0.024084723, -0.029931977, -0.01600273, -0.02352084, 0.017464988, -0.0020999317, -0.019449204, -0.07947758, -0.016422233, 0.04702703, 0.044103574, -0.025454935, 0.029373871, 0.023687422, 0.016594011, -0.052016895, 0.03853344, 0.04166182, 0.07072213, -0.018024273, -0.009445107, 0.007088879, 0.018594094, -0.0264267, 0.0034890422, 0.0020487898, -0.0043285703, 0.0225305, -0.024251333, 0.021448512, -0.00617759, -0.044219963, -0.041450296, 0.0020235984, 0.03386156, 0.046009243, 0.027184604, 0.0017384415, 0.019410675, -0.056208737, -0.03160179, -0.14004254, 0.00020578479, 0.055335093, 0.016104808, 0.015123298, -0.005494064, -0.04970729, -0.061011128, -0.015598017, -0.043939892, 0.008364048, -0.0463825, -0.0012521187, 0.00053454406, 0.02816164, -0.036074102, -0.060268335, 0.052649952, -0.07024735, -0.016817179, 0.07667593, -0.089101784, -0.01776569, 0.001787523, -0.058534015, -0.049942676, 0.014956441, -0.038889423, 0.015308068, 0.033116017, 0.025416262, -0.0042874054, 0.025392856, -0.021940028, 0.05928297, -0.04103987, -0.014863796, -0.009874795, -0.046639137, 0.03278076, -0.042295437, 0.023365708, 0.041872058, 0.010301582, 0.035645563, 0.022074746, 0.017792804, 0.050016604, 0.02559284, -0.06039799, 0.0070662186, -0.03762601, 0.05166772, 0.010749504, 0.039042972, 0.024842348, -0.048354298, -0.019724447, 0.06522827, 0.0025400098, 0.057133477, 0.023237199, -0.018204104, 0.031580705, 0.027238932, -0.027924253, 0.017414711, 0.008002624, 0.010749781, 0.0028456366, 0.07304088, -0.08912907, 0.03624764, -0.0067328434, -0.0021468655, -0.0063948333, 0.031531483, -0.05658386, 0.0028801183, 0.05707286, 0.024221338, -0.03648616, 0.07992888, -0.0055211587, 0.017239423, 0.0257517, -0.013893679, 0.048079252, 0.015459573, -0.0130662285, -0.020021688, -0.022041673, 0.005575898, 0.00022723543, 0.022513451, 0.03929479, 0.008531061, -0.02351763, -0.015550273, -9.702502e-05, -0.068022445, -0.009150065, -0.030180797, 0.0024294122, -0.008190456, -0.008222204, -0.02758985, 0.048733454, 0.043970678, 0.0051068217, -0.019895881, 0.06400824, -0.018230304, -0.054858454, 0.03426145, -0.043472454, -0.021930953, -0.008683004, -0.04155505, 0.001968608, 0.04138733, 0.0368926, 0.0026014084, 0.04598482, -0.014676449, 0.03133982, 0.08732344, 0.032530352, 0.0043735793, -0.0004020372, 0.026015615, 0.08087723, 0.005527545, -0.04080872, 0.05229488, -0.040861987, 0.004366968, 0.03758333, 0.031551994, 0.04252604, -0.043397468, 0.018999752, 0.02647386, -0.017854793, -0.011915232, -0.009652343, -0.0036792385, -0.034072608, -0.027283197, 0.010762059, 0.08836953, -0.03146071, 0.044010494, 0.03467319, -0.028847773, -0.0074169966, 0.06779386, 0.045066606, -0.0078001176, 0.06536937, -0.001604547, 0.038572535, -0.0151554225, 0.053183492, 0.021810407, -0.0077002663, 0.032926295, 0.050884593, 0.03416212, -0.06720585, -0.0015254408, -0.031993832, 0.0546828, 0.026407406, 0.04383662, -0.04098486, -0.05343664, -0.00735551, 0.0036563058, -0.053620867, 0.03559513, -0.103189185, -0.0328867, -0.010333918, -0.0057052104, 0.051788613, -0.034958646, 0.0071401997, -0.031932157, -0.0039730514, -0.018379103, 0.030758692, 0.022503255, -0.042123258, 0.014828246, -0.02598872, -0.02341479, 0.03444061, 0.024424678, -0.0074294824, -0.0077285776, -0.022291737, 0.035877414, 0.03405853, -0.03186172, 0.023621414, 0.026902074, 0.0007078115, -0.072828256, -0.008471791, 0.036872316, -0.022445848, -0.019355858, 0.01001061, -0.04865505, -0.070340894, 0.006220781, 0.00037928906, -0.005867263, -0.051270537, -0.02422968, -0.015074226, 0.044134423, 0.016769545, -0.050166056, -0.010320516, -0.07972288, 0.011450392, -0.0762153, 0.028686397, -0.03412702, 0.0062735695, -0.051863752, 0.073813625, 0.045401823, 0.022952475, -0.017071202, -0.018589444, 0.008733278, 0.08268158, 0.03609941, -0.03470877, 0.009529153, 0.029332774, 0.0719835, -6.659505e-05, 0.031213703, -0.008443174, -0.003331416, -0.06140883, 0.03493462, -0.06428381, 0.00553848, -0.017649932, 0.015827186, -0.014048178, 0.020453647, -0.0251807, 0.0547018, -0.010067047, -0.0013930526, -0.07410512, 0.017767876, 0.0025008689, -0.026137626, -0.028319348, 0.03503572, -0.00011505476, -0.05377242, 0.030760152, -0.029631315, -0.05299535, 0.032404844, 0.084066294, 0.001602066, 0.029280322, 0.06874339, -0.030736934, -0.0014566989, -0.013974138, -0.061741475, 0.07171889, 0.0054873964, 0.06170468, -0.040740173, 0.03512657, 0.04303738, -0.0057703145, -0.03271393, 0.009030984, 0.050513636, 0.00860079, 0.0069746897, 0.006352664, 0.042252246, -0.015121384, -0.050976306, -0.0020085303, -0.004636407, 0.008059077, 0.0011425884, -0.06674663, -0.026583632, -0.009802376, 0.036238734, -0.034005545, -0.026039286, 0.032003563, 0.042659312, -0.003638316, 0.031066202, 0.042597547, 0.041583214, -0.0005302753, 0.01656047, 0.009186489, 0.029030563, 0.0782172, 0.020347746, -0.0011314687, 0.008213735, 0.009776148, -0.057684254, 0.02531078, 0.0035134824, 0.012883362, -0.04479449, -0.022774804, 0.021098072, -0.021506503, -0.0030788705, -0.017626101, 0.0038001304, -0.098782755, -0.010063155, -0.0054214844, -0.0128600625, 0.038828164, -0.024777368, -0.05971763, -0.0062215156, 0.028512856, 0.0054097255, -0.025624482, -0.039454624, 0.003724451, 0.020006599, 0.048442487, -0.021634601, -0.086159386, 0.024037348, -0.0075172265, -0.0068500256, 0.013993229, 0.018442122, 0.054693125, 0.02750357, 0.027605698, -0.003723611, -0.02302415, -0.032055542, -0.0028780417, 0.012884181, -0.018696811, -0.009308858, 0.022811137, -0.0077953725, 0.018677097, -0.057562236, -0.04803832, -0.044428125, -0.012332459, -0.0064983773, 0.034421295, -0.09195393, 0.009714327, -0.04274463, -0.05527891, -0.06698009, -0.0028144035, -0.017977951, -0.014603304, 0.044038836, -0.017072799, -0.003666904, 0.017709281, -0.032124758, -0.014496262, -0.014491684, 0.067509644, -0.03299204, -0.019917917, -0.04351139, 0.0022004952, 0.018777123, -0.018889237, -0.07562594, -0.003318838, -0.029775163, -0.021371659, 0.0020014741, -0.09743589, 0.026392737, -0.040825315, 0.026849104, -0.016735733, 0.042085953, 0.030999435, 0.010566783, -0.006762473, -0.054017723, 0.0297502, 0.025684223, -0.01226534, 0.032293957, 0.032004774, 0.06514391, -0.0031771392, -0.043011796, -0.0075271986, 0.009587383, -0.034386832, 0.05250773, 0.040072657, 0.046486773, -0.024757989, -0.023615366, -0.00538665, 0.014032301, 0.062032487, -0.06262123, 0.042420264, -0.04246236, -0.007107603, -0.011559541, -0.0008723992, -0.011240484, -0.00018109831, -0.0143253235, 0.034003846, -0.062865525, -0.019026367, 0.01053881, 0.015842548, 0.0049592797, 0.07102974, 0.0032177905, -0.0934137, -0.015373006, -0.00041936905, -0.030036127, 0.020488366, -0.032288786, 0.016095782, 0.00028562744, -0.022156175, 0.05684357, -0.029623248, -0.038560715, -0.009476915, -0.01217111, 0.045698743, -0.018960603, -0.0024300376, 0.005636597, -0.017673012, -0.04528647, 0.006490428, 0.01970033, -0.019457046, 0.016950341, 0.015478666, -0.066078186, 0.031938013, -0.027359666, -0.013105375, 0.0052198274, -0.02419123, 0.018718673, 0.013390126, -0.049327936, -0.0013600879, -0.022047183, 0.007689991, -0.011477674, -0.016709127, -0.0013913629, -0.007595237, -0.007337155, 0.063883886, -0.023632465, -0.040854268, -0.035363495, 0.047993273, -0.011679755, -0.028564839, -0.030860545, 0.048870493, 0.004128058, 0.050990008, -0.01280711, -0.062156644, -0.01970165, -0.051020168, 0.050188556, 0.0421265, 0.012821216, 0.00029191354, 0.04356228, -0.024490552, -0.025624417, 0.045204263, 0.034942683, 0.016232818, 0.018108854, -0.04141727, 0.03494357, -0.004638767, 0.05974656, -0.0021243035, -0.022024184, 0.033051133, -0.015937569, 0.019348785, 0.046814475, 0.0015092228, -0.054736886, 0.07039211, -0.04725992, -0.008526917, 0.062260002, 0.010953114, -0.027337058, 0.00937841, 0.030234177, -0.008320672, -0.081728, -0.0015596519, -0.016244646, -0.04709984, -0.016767278, 0.027793817, 0.049807746, 0.0058931895, -0.013245351, 0.01696907, 0.051785823, 0.04125326, 0.057093326, 0.009173578, 0.050536983, -0.035318106, -0.010662673, 0.058437105, 0.030780964, 0.032168873, 0.07685133, 0.0109510245, -0.004359374, -0.029505784, -0.0007087917, 0.021053413, 0.03928633, -0.034172706, -0.05548981, -0.07229941, -0.02734322, -0.039246332, 0.024691736, -0.028370248, 0.0044510826, 0.017261246, -0.077357836, -0.051083595, -0.008201834, 0.009992282, 0.012361896, 0.033277538, 0.014570261, 0.012282668, 0.011539545, -0.04185414, -0.04161596, 0.02722048, -0.03937864, -0.021831118, 0.014682664, -0.0018079511, -0.0022573513, -0.041233063, -0.037499797, -0.051121116, -0.06972741, -0.038611863, 0.04076857, -0.06382866, 0.03957344, 0.02970279, 0.012085339, 0.041943464, 0.043942675, 0.0232792, 0.030726131, 0.0068312357, -0.0052722823, 0.03372055, -0.023810038, -0.03760394, 0.0009826352, -0.010610158, -0.017007977, 0.039224144, -0.038331624, -0.016417472, -0.033998232, 0.025590662, -0.04772834, 0.037460465, 0.019871902, 0.028306441, -0.03701851, -0.033373002, -0.025157979, 0.042426303, 0.0114666065, -0.013510334, 0.0031452773, 0.0058014053, 0.01291758, 0.008459915, 0.015303926, -0.04102657, 0.036102287, -0.036046837, 0.04986056, 0.047053438, -0.04222467, -0.08491373, 0.010982824, 0.00042593796, -0.011441144, -0.024449555, 0.051394656, -0.006872477, 0.06287127, 0.0015380738, -0.001589681, 0.0050296895, 0.03207604, -0.05931349, 0.044010036, -0.045162912, -0.012672922, -0.014376167, 0.012897772, 0.05404905, -0.041411743, -0.010245717, 0.000634795, -0.008682547, 0.02797019, -0.018876858, 0.03470907, -0.03369373, -0.083398476, -0.029012818, -0.036738276, 0.005048331, 0.05717992, 0.028244415, -0.039686274, -0.026245296, -0.004919118, 0.0025127025, -0.074197076, -0.029198054, -0.017139105, -0.01956795, 0.061808664, 0.04619788, 0.0067896196, 0.030895712, -0.023187947, 0.013375304, -0.012992857, -0.026462877, -0.0083314, 0.0039224336, -0.03047137, 0.014633535, 0.07355766, -0.046048403, 0.06946333]]}\n",
      "768\n"
     ]
    }
   ],
   "source": [
    "title = \"The next genration of AI for developers and Google Workspace\"\n",
    "Sample_text = (\"Title: The next generation of AI for developers and Google Workspace\",)\n",
    "model = 'models/embedding-001'\n",
    "embedding = genai.embed_content(model=model,\n",
    "                                content=Sample_text,\n",
    "                                task_type=\"retrieval_document\",\n",
    "                                title=title)\n",
    "print(embedding)\n",
    "print(len(embedding['embedding'][0]))"
   ]
  },
  {
   "cell_type": "markdown",
   "metadata": {},
   "source": [
    "Extraction of text from PDF file"
   ]
  },
  {
   "cell_type": "code",
   "execution_count": 7,
   "metadata": {},
   "outputs": [
    {
     "name": "stdout",
     "output_type": "stream",
     "text": [
      "Avyansh Tivedi(2023-2034)[202316] K-GARTEN PRE-SCHOOL Pathak Puram colony, Raebareli Road Lucknow, UP(226025)                 Ph No: 8400054584                                    Email ID: kgarten072023@gmailcom                                                              Date:               This is to certify that AVYANSH TRIVEDI S/0 NISHIKANT TRIVEDI is a bonafide student of this institution in Class – Nursery in Session 202-24   Instalments  Tuition Fee - April Tuition Fee – May Tuition Fee – June Tuition Fee – July Tuition Fee – August Tuition Fee – September Tuition Fee – October Tuition Fee – November Tuition Fee – December Tuition Fee – January Tuition Fee – February Tuition Fee - March S No 1 2 3 4 5 6\n",
      "7 8 9 10 11 12 Admission Fee Received 2000 2000 2000 2000 2000 2000 2000 2000 2000 5000 Total:   23,000 Amount of Rupees 23,000 has been paid by Nishikant Trivedi for the period of July to February  In this session as Tuition fees Principal K-Garten Pre- School\n"
     ]
    }
   ],
   "source": [
    "from pdfminer.high_level import extract_text\n",
    "\n",
    "text = extract_text(\"Tax Rebate Certificate.pdf\")\n",
    "# split for every 5 sentences\n",
    "sentences = text.split(\".\")\n",
    "sentences=[\"\".join(sentences[i:i+10]).replace('\\n','').strip() for i in range(0, len(sentences),10)]\n",
    "for i in sentences:\n",
    "    print(i)"
   ]
  },
  {
   "cell_type": "code",
   "execution_count": 8,
   "metadata": {},
   "outputs": [
    {
     "data": {
      "text/plain": [
       "[{'title': 'Document 0',\n",
       "  'content': 'Avyansh Tivedi(2023-2034)[202316] K-GARTEN PRE-SCHOOL Pathak Puram colony, Raebareli Road Lucknow, UP(226025)                 Ph No: 8400054584                                    Email ID: kgarten072023@gmailcom                                                              Date:               This is to certify that AVYANSH TRIVEDI S/0 NISHIKANT TRIVEDI is a bonafide student of this institution in Class – Nursery in Session 202-24   Instalments  Tuition Fee - April Tuition Fee – May Tuition Fee – June Tuition Fee – July Tuition Fee – August Tuition Fee – September Tuition Fee – October Tuition Fee – November Tuition Fee – December Tuition Fee – January Tuition Fee – February Tuition Fee - March S No 1 2 3 4 5 6'},\n",
       " {'title': 'Document 1',\n",
       "  'content': '7 8 9 10 11 12 Admission Fee Received 2000 2000 2000 2000 2000 2000 2000 2000 2000 5000 Total:   23,000 Amount of Rupees 23,000 has been paid by Nishikant Trivedi for the period of July to February  In this session as Tuition fees Principal K-Garten Pre- School'}]"
      ]
     },
     "execution_count": 8,
     "metadata": {},
     "output_type": "execute_result"
    }
   ],
   "source": [
    "documents = []\n",
    "for idx, i in enumerate(sentences):\n",
    "    documents.append({\n",
    "        'title':f\"Document {idx}\",\n",
    "        'content': i\n",
    "    })\n",
    "documents"
   ]
  },
  {
   "cell_type": "code",
   "execution_count": 10,
   "metadata": {},
   "outputs": [
    {
     "data": {
      "text/html": [
       "<div>\n",
       "<style scoped>\n",
       "    .dataframe tbody tr th:only-of-type {\n",
       "        vertical-align: middle;\n",
       "    }\n",
       "\n",
       "    .dataframe tbody tr th {\n",
       "        vertical-align: top;\n",
       "    }\n",
       "\n",
       "    .dataframe thead th {\n",
       "        text-align: right;\n",
       "    }\n",
       "</style>\n",
       "<table border=\"1\" class=\"dataframe\">\n",
       "  <thead>\n",
       "    <tr style=\"text-align: right;\">\n",
       "      <th></th>\n",
       "      <th>Title</th>\n",
       "      <th>Text</th>\n",
       "    </tr>\n",
       "  </thead>\n",
       "  <tbody>\n",
       "    <tr>\n",
       "      <th>0</th>\n",
       "      <td>Document 0</td>\n",
       "      <td>Avyansh Tivedi(2023-2034)[202316] K-GARTEN PRE...</td>\n",
       "    </tr>\n",
       "    <tr>\n",
       "      <th>1</th>\n",
       "      <td>Document 1</td>\n",
       "      <td>7 8 9 10 11 12 Admission Fee Received 2000 200...</td>\n",
       "    </tr>\n",
       "  </tbody>\n",
       "</table>\n",
       "</div>"
      ],
      "text/plain": [
       "        Title                                               Text\n",
       "0  Document 0  Avyansh Tivedi(2023-2034)[202316] K-GARTEN PRE...\n",
       "1  Document 1  7 8 9 10 11 12 Admission Fee Received 2000 200..."
      ]
     },
     "execution_count": 10,
     "metadata": {},
     "output_type": "execute_result"
    }
   ],
   "source": [
    "df = pd.DataFrame(documents)\n",
    "df.columns = ['Title','Text']\n",
    "df"
   ]
  },
  {
   "cell_type": "code",
   "execution_count": 12,
   "metadata": {},
   "outputs": [
    {
     "data": {
      "text/html": [
       "<div>\n",
       "<style scoped>\n",
       "    .dataframe tbody tr th:only-of-type {\n",
       "        vertical-align: middle;\n",
       "    }\n",
       "\n",
       "    .dataframe tbody tr th {\n",
       "        vertical-align: top;\n",
       "    }\n",
       "\n",
       "    .dataframe thead th {\n",
       "        text-align: right;\n",
       "    }\n",
       "</style>\n",
       "<table border=\"1\" class=\"dataframe\">\n",
       "  <thead>\n",
       "    <tr style=\"text-align: right;\">\n",
       "      <th></th>\n",
       "      <th>Title</th>\n",
       "      <th>Text</th>\n",
       "      <th>Embeddings</th>\n",
       "    </tr>\n",
       "  </thead>\n",
       "  <tbody>\n",
       "    <tr>\n",
       "      <th>0</th>\n",
       "      <td>Document 0</td>\n",
       "      <td>Avyansh Tivedi(2023-2034)[202316] K-GARTEN PRE...</td>\n",
       "      <td>[-0.00854073, -0.006398982, -0.029598754, 0.00...</td>\n",
       "    </tr>\n",
       "    <tr>\n",
       "      <th>1</th>\n",
       "      <td>Document 1</td>\n",
       "      <td>7 8 9 10 11 12 Admission Fee Received 2000 200...</td>\n",
       "      <td>[0.013075892, -0.005684731, 0.0009316697, 0.00...</td>\n",
       "    </tr>\n",
       "  </tbody>\n",
       "</table>\n",
       "</div>"
      ],
      "text/plain": [
       "        Title                                               Text  \\\n",
       "0  Document 0  Avyansh Tivedi(2023-2034)[202316] K-GARTEN PRE...   \n",
       "1  Document 1  7 8 9 10 11 12 Admission Fee Received 2000 200...   \n",
       "\n",
       "                                          Embeddings  \n",
       "0  [-0.00854073, -0.006398982, -0.029598754, 0.00...  \n",
       "1  [0.013075892, -0.005684731, 0.0009316697, 0.00...  "
      ]
     },
     "execution_count": 12,
     "metadata": {},
     "output_type": "execute_result"
    }
   ],
   "source": [
    "# Get the embedding of each text and add to an embeddings columns in the dataframe\n",
    "def embed_fn(title, text):\n",
    "    return genai.embed_content(\n",
    "        model = model,\n",
    "        content = text,\n",
    "        task_type=\"retrieval_document\",\n",
    "        title=title\n",
    "    )[\"embedding\"]\n",
    "\n",
    "df['Embeddings'] = df.apply(lambda row: embed_fn(row['Title'],row['Text']),axis=1)\n",
    "df"
   ]
  },
  {
   "cell_type": "markdown",
   "metadata": {},
   "source": [
    "# Question and its embedding"
   ]
  },
  {
   "cell_type": "code",
   "execution_count": null,
   "metadata": {},
   "outputs": [],
   "source": [
    "query = \"Responsibility at microsoft\"\n",
    "model ='models/embedding-001'\n",
    "\n",
    "request = genai.embed_content(\n",
    "    model=model,\n",
    "    content=query,\n",
    "    task_type='retrieval_query'\n",
    ")\n",
    "print(request)"
   ]
  },
  {
   "cell_type": "code",
   "execution_count": 14,
   "metadata": {},
   "outputs": [],
   "source": [
    "def find_best_passage(query, dataframe):\n",
    "    \"\"\"\n",
    "    compute the distances between the query and each  document in the datframe using the dot product.\n",
    "    \"\"\"\n",
    "    query_embedding = genai.embed_content(model=model,\n",
    "                                          content=query,\n",
    "                                          task_type=\"retrieval_query\")\n",
    "    dot_products = np.dot(np.stack(dataframe['Embeddings']),query_embedding[\"embedding\"])\n",
    "    idx = np.argmax(dot_products)\n",
    "    return dataframe.iloc[idx]['Text'] # Return text from index with max value\n"
   ]
  },
  {
   "cell_type": "code",
   "execution_count": 16,
   "metadata": {},
   "outputs": [
    {
     "data": {
      "text/plain": [
       "'7 8 9 10 11 12 Admission Fee Received 2000 2000 2000 2000 2000 2000 2000 2000 2000 5000 Total:   23,000 Amount of Rupees 23,000 has been paid by Nishikant Trivedi for the period of July to February  In this session as Tuition fees Principal K-Garten Pre- School'"
      ]
     },
     "execution_count": 16,
     "metadata": {},
     "output_type": "execute_result"
    }
   ],
   "source": [
    "passage = find_best_passage(query,df)\n",
    "passage"
   ]
  },
  {
   "cell_type": "code",
   "execution_count": 17,
   "metadata": {},
   "outputs": [],
   "source": [
    "def make_prompt(query, relevant_passage):\n",
    "    escaped = relevant_passage.replace(\"'\",\"\").replace('\"',\"\").replace(\"\\n\",\" \")\n",
    "    prompt = textwrap.dedent(\"\"\"You are helpful and informative bot that answers\\\n",
    "                             questions using text from the reference passage included below.\\\n",
    "                             Be sure to respond in a complete sentence, being comprehensive,\\\n",
    "                             including all relevant background information.\\\n",
    "                             However, you are talking to a non-technical audience, \\\n",
    "                             so be sure to break down complicated concepts and \\\n",
    "                             strike a friendly and converstional tone.\\\n",
    "                             If the passage is irrelevant to the answer, you may ignore it.\n",
    "                             QUESTION: '{query}'\n",
    "                             PASSAGE: '{relevant_passage}'\n",
    "                             ANSWER:\n",
    "                             \"\"\").format(query=query, relevant_passage=escaped)\n",
    "    \n",
    "    return prompt"
   ]
  },
  {
   "cell_type": "code",
   "execution_count": 18,
   "metadata": {},
   "outputs": [
    {
     "name": "stdout",
     "output_type": "stream",
     "text": [
      "You are helpful and informative bot that answers                             questions using text from the reference passage included below.                             Be sure to respond in a complete sentence, being comprehensive,                             including all relevant background information.                             However, you are talking to a non-technical audience,                              so be sure to break down complicated concepts and                              strike a friendly and converstional tone.                             If the passage is irrelevant to the answer, you may ignore ir.\n",
      "                             QUESTION: 'Responsibility at microsoft'\n",
      "                             PASSAGE: '7 8 9 10 11 12 Admission Fee Received 2000 2000 2000 2000 2000 2000 2000 2000 2000 5000 Total:   23,000 Amount of Rupees 23,000 has been paid by Nishikant Trivedi for the period of July to February  In this session as Tuition fees Principal K-Garten Pre- School'\n",
      "                             ANSWER:\n",
      "\n"
     ]
    }
   ],
   "source": [
    "prompt = make_prompt(query, passage)\n",
    "print(prompt)"
   ]
  },
  {
   "cell_type": "code",
   "execution_count": 19,
   "metadata": {},
   "outputs": [
    {
     "data": {
      "text/markdown": [
       "The provided passage doesn't contain any information about responsibility at Microsoft. It appears to be a financial record of tuition fees paid at a school. \n"
      ],
      "text/plain": [
       "<IPython.core.display.Markdown object>"
      ]
     },
     "execution_count": 19,
     "metadata": {},
     "output_type": "execute_result"
    }
   ],
   "source": [
    "model = genai.GenerativeModel('models/gemini-1.5-flash-latest')\n",
    "answer = model.generate_content(prompt)\n",
    "Markdown(answer.text)"
   ]
  },
  {
   "cell_type": "code",
   "execution_count": null,
   "metadata": {},
   "outputs": [],
   "source": []
  }
 ],
 "metadata": {
  "kernelspec": {
   "display_name": "base",
   "language": "python",
   "name": "python3"
  },
  "language_info": {
   "codemirror_mode": {
    "name": "ipython",
    "version": 3
   },
   "file_extension": ".py",
   "mimetype": "text/x-python",
   "name": "python",
   "nbconvert_exporter": "python",
   "pygments_lexer": "ipython3",
   "version": "3.11.4"
  }
 },
 "nbformat": 4,
 "nbformat_minor": 2
}
